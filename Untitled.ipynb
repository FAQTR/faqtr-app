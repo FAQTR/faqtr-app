{
 "cells": [
  {
   "cell_type": "code",
   "execution_count": 81,
   "metadata": {
    "collapsed": true
   },
   "outputs": [],
   "source": [
    "import pickle"
   ]
  },
  {
   "cell_type": "code",
   "execution_count": 82,
   "metadata": {
    "collapsed": true
   },
   "outputs": [],
   "source": [
    "positive = pickle.load(open('ml/neuralnet/trainingpositive.p', 'r'))\n",
    "negative = pickle.load(open('ml/neuralnet/trainingnegative.p', 'r'))"
   ]
  },
  {
   "cell_type": "code",
   "execution_count": 83,
   "metadata": {},
   "outputs": [
    {
     "data": {
      "text/plain": [
       "2384"
      ]
     },
     "execution_count": 83,
     "metadata": {},
     "output_type": "execute_result"
    }
   ],
   "source": [
    "len(training)\n"
   ]
  },
  {
   "cell_type": "code",
   "execution_count": 84,
   "metadata": {},
   "outputs": [
    {
     "data": {
      "text/plain": [
       "['US adults consume an average of 3,400 mg/day [of sodium], well above the current federal guideline of less than 2,300 mg daily.',\n",
       " 'facts  statistics physical activity  us adults consume an average of 3400 mgday of sodium well above the current federal guideline of less than 2300 m',\n",
       " [0, 1]]"
      ]
     },
     "execution_count": 84,
     "metadata": {},
     "output_type": "execute_result"
    }
   ],
   "source": [
    "training[0]"
   ]
  },
  {
   "cell_type": "code",
   "execution_count": 93,
   "metadata": {},
   "outputs": [],
   "source": [
    "import ml.neuralnet.preProcessFiles as ppf\n",
    "import ml.nlp.numtext_interconversion as ni"
   ]
  },
  {
   "cell_type": "code",
   "execution_count": 86,
   "metadata": {
    "collapsed": true
   },
   "outputs": [],
   "source": [
    "globalArray = [positive, negative]\n",
    "training = []\n",
    "for array in globalArray:\n",
    "    for subarray in array:\n",
    "        training.append([subarray[0].strip(), subarray[1].strip(), subarray[2]])"
   ]
  },
  {
   "cell_type": "code",
   "execution_count": 87,
   "metadata": {},
   "outputs": [],
   "source": [
    "for line in training:\n",
    "    line[0] = ppf.processLine(str(line[0]))\n",
    "    try:\n",
    "        line[1] = ppf.processLine(str(line[1]))\n",
    "    except:\n",
    "        print line[1]\n",
    "        z = line[1]\n",
    "        break\n"
   ]
  },
  {
   "cell_type": "code",
   "execution_count": 88,
   "metadata": {},
   "outputs": [],
   "source": [
    "wordlist = []\n",
    "for array in training:\n",
    "    temp = array[0].split()\n",
    "    temp.extend(array[1].split())\n",
    "    for word in temp:\n",
    "        if word not in wordlist:\n",
    "            wordlist.append(word)\n",
    "    "
   ]
  },
  {
   "cell_type": "code",
   "execution_count": 89,
   "metadata": {},
   "outputs": [],
   "source": [
    "pickle.dump(wordlist, open('word_list_for_phase_2_CNN.p', 'w'))"
   ]
  },
  {
   "cell_type": "code",
   "execution_count": 90,
   "metadata": {},
   "outputs": [],
   "source": [
    "finalTraining = []\n",
    "for array in training:\n",
    "    finalTraining.append([ppf.tokenize(array[0].split(), wordlist), ppf.tokenize(array[1].split(), wordlist), array[2]])"
   ]
  },
  {
   "cell_type": "code",
   "execution_count": null,
   "metadata": {},
   "outputs": [],
   "source": []
  },
  {
   "cell_type": "code",
   "execution_count": 92,
   "metadata": {
    "collapsed": true
   },
   "outputs": [],
   "source": [
    "pickle.dump(finalTraining, open('phase2_training_set.p', 'w'))"
   ]
  },
  {
   "cell_type": "code",
   "execution_count": null,
   "metadata": {},
   "outputs": [],
   "source": []
  },
  {
   "cell_type": "code",
   "execution_count": null,
   "metadata": {},
   "outputs": [],
   "source": []
  },
  {
   "cell_type": "code",
   "execution_count": null,
   "metadata": {
    "collapsed": true
   },
   "outputs": [],
   "source": []
  }
 ],
 "metadata": {
  "kernelspec": {
   "display_name": "Python 2",
   "language": "python",
   "name": "python2"
  },
  "language_info": {
   "codemirror_mode": {
    "name": "ipython",
    "version": 2
   },
   "file_extension": ".py",
   "mimetype": "text/x-python",
   "name": "python",
   "nbconvert_exporter": "python",
   "pygments_lexer": "ipython2",
   "version": "2.7.13"
  }
 },
 "nbformat": 4,
 "nbformat_minor": 2
}
