{
 "cells": [
  {
   "cell_type": "code",
   "execution_count": 1,
   "metadata": {
    "collapsed": true
   },
   "outputs": [],
   "source": [
    "import pickle\n",
    "import numpy as np\n",
    "import tflearn\n",
    "from tflearn.layers.conv import conv_2d, max_pool_2d\n",
    "from tflearn.layers.core import input_data, dropout, fully_connected\n",
    "from tflearn.layers.estimator import regression\n",
    "from tflearn.data_utils import pad_sequences\n",
    "import random"
   ]
  },
  {
   "cell_type": "code",
   "execution_count": 2,
   "metadata": {
    "collapsed": true
   },
   "outputs": [],
   "source": [
    "positive = pickle.load(open('ml/neuralnet/trainingpositive.p', 'r'))\n",
    "negative = pickle.load(open('ml/neuralnet/trainingnegative.p', 'r'))"
   ]
  },
  {
   "cell_type": "code",
   "execution_count": 3,
   "metadata": {},
   "outputs": [
    {
     "data": {
      "text/plain": [
       "'150 people are gay  '"
      ]
     },
     "execution_count": 3,
     "metadata": {},
     "output_type": "execute_result"
    }
   ],
   "source": [
    "import ml.neuralnet.preProcessFiles as ppf\n",
    "import ml.nlp.numtext_interconversion as ni\n",
    "ni.wrapper_normalizer('one hundred and fifty people are gay')"
   ]
  },
  {
   "cell_type": "code",
   "execution_count": 4,
   "metadata": {
    "collapsed": true
   },
   "outputs": [],
   "source": [
    "globalArray = [positive, negative]\n",
    "training = []\n",
    "for array in globalArray:\n",
    "    for subarray in array:\n",
    "        training.append([ni.wrapper_normalizer(subarray[0].strip()), ni.wrapper_normalizer(subarray[1].strip()), subarray[2]])"
   ]
  },
  {
   "cell_type": "code",
   "execution_count": 5,
   "metadata": {},
   "outputs": [],
   "source": [
    "for line in training:\n",
    "    line[0] = ppf.processLine(str(line[0]))\n",
    "    try:\n",
    "        line[1] = ppf.processLine(str(line[1]))\n",
    "    except:\n",
    "        print line[1]\n",
    "        z = line[1]\n",
    "        break\n"
   ]
  },
  {
   "cell_type": "code",
   "execution_count": 6,
   "metadata": {},
   "outputs": [],
   "source": [
    "wordlist = []\n",
    "for array in training:\n",
    "    temp = array[0].split()\n",
    "    temp.extend(array[1].split())\n",
    "    for word in temp:\n",
    "        if word not in wordlist:\n",
    "            wordlist.append(word)\n",
    "    "
   ]
  },
  {
   "cell_type": "code",
   "execution_count": 7,
   "metadata": {},
   "outputs": [],
   "source": [
    "pickle.dump(wordlist, open('word_list_for_phase_2_CNN.p', 'w'))"
   ]
  },
  {
   "cell_type": "code",
   "execution_count": 8,
   "metadata": {},
   "outputs": [],
   "source": [
    "finalTraining = []\n",
    "for array in training:\n",
    "    finalTraining.append([ppf.tokenize(array[0].split(), wordlist), ppf.tokenize(array[1].split(), wordlist), np.array(array[2])])"
   ]
  },
  {
   "cell_type": "code",
   "execution_count": 9,
   "metadata": {},
   "outputs": [
    {
     "data": {
      "text/plain": [
       "[1,\n",
       " 2,\n",
       " 3,\n",
       " 4,\n",
       " 5,\n",
       " 6,\n",
       " 7,\n",
       " 8,\n",
       " 9,\n",
       " 9,\n",
       " 10,\n",
       " 6,\n",
       " 11,\n",
       " 12,\n",
       " 13,\n",
       " 14,\n",
       " 15,\n",
       " 16,\n",
       " 17,\n",
       " 6,\n",
       " 18,\n",
       " 19,\n",
       " 20,\n",
       " 7,\n",
       " 9,\n",
       " 9,\n",
       " 21,\n",
       " 22]"
      ]
     },
     "execution_count": 9,
     "metadata": {},
     "output_type": "execute_result"
    }
   ],
   "source": [
    "finalTraining[0][0]"
   ]
  },
  {
   "cell_type": "code",
   "execution_count": 10,
   "metadata": {
    "collapsed": true
   },
   "outputs": [],
   "source": [
    "pickle.dump(finalTraining, open('phase2_training_set.p', 'w'))"
   ]
  },
  {
   "cell_type": "code",
   "execution_count": null,
   "metadata": {},
   "outputs": [],
   "source": []
  },
  {
   "cell_type": "code",
   "execution_count": 11,
   "metadata": {},
   "outputs": [],
   "source": [
    "maxlen = 15"
   ]
  },
  {
   "cell_type": "code",
   "execution_count": 12,
   "metadata": {},
   "outputs": [],
   "source": [
    "random.shuffle(finalTraining)\n",
    "X_train, X_test, y_train, y_test = [], [], [], []\n",
    "for i in range(int(0.9*len(finalTraining))):\n",
    "    X_train.append(np.array([pad_sequences([finalTraining[i][0]], maxlen),pad_sequences([finalTraining[i][1]], maxlen)]))\n",
    "    y_train.append(np.array(finalTraining[i][2]))\n",
    "    \n",
    "for i in range(int(0.9*len(finalTraining)), len(finalTraining)):\n",
    "    X_test.append(np.array([pad_sequences([finalTraining[i][0]], maxlen),pad_sequences([finalTraining[i][1]], maxlen)]))\n",
    "    y_test.append(np.array(finalTraining[i][2]))\n",
    "X_train = np.array(X_train)\n",
    "y_train = np.array(y_train)\n",
    "X_test = np.array(X_test)\n",
    "y_test = np.array(y_test)"
   ]
  },
  {
   "cell_type": "code",
   "execution_count": 13,
   "metadata": {},
   "outputs": [
    {
     "data": {
      "text/plain": [
       "(2145, 2, 15, 1)"
      ]
     },
     "execution_count": 13,
     "metadata": {},
     "output_type": "execute_result"
    }
   ],
   "source": [
    "X_train = X_train.reshape([-1, 2, maxlen, 1])\n",
    "X_test = X_test.reshape([-1, 2, maxlen, 1])\n",
    "X_train.shape"
   ]
  },
  {
   "cell_type": "code",
   "execution_count": 14,
   "metadata": {},
   "outputs": [],
   "source": [
    "convnet = None\n",
    "convnet = input_data(shape=[None, 2, maxlen, 1], name='input')\n",
    "\n",
    "convnet = conv_2d(convnet, 8, 2, activation='relu')\n",
    "convnet = max_pool_2d(convnet, 2)\n",
    "\n",
    "convnet = conv_2d(convnet, 16, 2, activation='relu')\n",
    "convnet = max_pool_2d(convnet, 2)\n",
    "\n",
    "convnet = fully_connected(convnet, 32, activation='relu')\n",
    "convnet = dropout(convnet, 0.8)\n",
    "\n",
    "convnet = fully_connected(convnet, 32, activation='relu')\n",
    "convnet = dropout(convnet, 0.8)\n",
    "\n",
    "convnet = fully_connected(convnet, 2, activation='softmax')\n",
    "convnet = regression(convnet, optimizer='adam', n_classes=2, learning_rate=0.01, loss='categorical_crossentropy', name='targets')\n",
    "\n",
    "model = tflearn.DNN(convnet)"
   ]
  },
  {
   "cell_type": "code",
   "execution_count": 15,
   "metadata": {},
   "outputs": [
    {
     "name": "stdout",
     "output_type": "stream",
     "text": [
      "Training Step: 1699  | total loss: \u001b[1m\u001b[32m0.51100\u001b[0m\u001b[0m | time: 0.135s\n",
      "| Adam | epoch: 050 | loss: 0.51100 -- iter: 2112/2145\n",
      "Training Step: 1700  | total loss: \u001b[1m\u001b[32m0.51533\u001b[0m\u001b[0m | time: 0.139s\n",
      "| Adam | epoch: 050 | loss: 0.51533 -- iter: 2145/2145\n",
      "--\n"
     ]
    }
   ],
   "source": [
    "model.fit({'input':X_train}, {'targets':y_train}, n_epoch=50)"
   ]
  },
  {
   "cell_type": "code",
   "execution_count": 16,
   "metadata": {},
   "outputs": [],
   "source": [
    "arr = np.array([pad_sequences([ppf.tokenize(ppf.processLine(\"2 out of 8 people eat meat\").split(), wordlist)], maxlen), pad_sequences([ppf.tokenize(ppf.processLine(\"few people eat meat\").split(), wordlist)], maxlen)])"
   ]
  },
  {
   "cell_type": "code",
   "execution_count": 17,
   "metadata": {},
   "outputs": [],
   "source": [
    "arr = arr.reshape([-1, 2, maxlen, 1])"
   ]
  },
  {
   "cell_type": "code",
   "execution_count": 18,
   "metadata": {},
   "outputs": [
    {
     "data": {
      "text/plain": [
       "array([[ 0.90629268,  0.09370727]], dtype=float32)"
      ]
     },
     "execution_count": 18,
     "metadata": {},
     "output_type": "execute_result"
    }
   ],
   "source": [
    "model.predict(arr)"
   ]
  },
  {
   "cell_type": "code",
   "execution_count": null,
   "metadata": {
    "collapsed": true
   },
   "outputs": [],
   "source": []
  }
 ],
 "metadata": {
  "kernelspec": {
   "display_name": "Python 2",
   "language": "python",
   "name": "python2"
  },
  "language_info": {
   "codemirror_mode": {
    "name": "ipython",
    "version": 2
   },
   "file_extension": ".py",
   "mimetype": "text/x-python",
   "name": "python",
   "nbconvert_exporter": "python",
   "pygments_lexer": "ipython2",
   "version": "2.7.13"
  }
 },
 "nbformat": 4,
 "nbformat_minor": 2
}
