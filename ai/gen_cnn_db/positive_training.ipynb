{
 "cells": [
  {
   "cell_type": "code",
   "execution_count": 69,
   "metadata": {
    "collapsed": true
   },
   "outputs": [],
   "source": [
    "import pandas as pd\n",
    "import pickle"
   ]
  },
  {
   "cell_type": "code",
   "execution_count": 70,
   "metadata": {
    "collapsed": true
   },
   "outputs": [],
   "source": [
    "file = open('newcsvfile.csv', 'r')"
   ]
  },
  {
   "cell_type": "code",
   "execution_count": 71,
   "metadata": {},
   "outputs": [],
   "source": [
    "file = file.readlines()"
   ]
  },
  {
   "cell_type": "code",
   "execution_count": 72,
   "metadata": {},
   "outputs": [],
   "source": [
    "df = pd.read_csv('newcsvfile.txt', delimiter='\\t')"
   ]
  },
  {
   "cell_type": "code",
   "execution_count": 73,
   "metadata": {},
   "outputs": [],
   "source": [
    "for i in file:\n",
    "    i = i.split('\",')\n",
    "    if len(i) != 3:\n",
    "        try:\n",
    "            xyz = i[1].split(',')\n",
    "            if len(xyz) == 2:\n",
    "                i[0] = i[0].extend(xyz)\n",
    "                temp.append(i[0])\n",
    "            else:\n",
    "                xyz = i[0].split(',')\n",
    "                xyz = xyz.extend(i[1])\n",
    "                temp.append(xyz)\n",
    "        except:\n",
    "            pass\n",
    "    else:\n",
    "        temp.append(i)\n",
    "        "
   ]
  },
  {
   "cell_type": "code",
   "execution_count": 74,
   "metadata": {},
   "outputs": [
    {
     "data": {
      "text/html": [
       "<div>\n",
       "<style>\n",
       "    .dataframe thead tr:only-child th {\n",
       "        text-align: right;\n",
       "    }\n",
       "\n",
       "    .dataframe thead th {\n",
       "        text-align: left;\n",
       "    }\n",
       "\n",
       "    .dataframe tbody tr th {\n",
       "        vertical-align: top;\n",
       "    }\n",
       "</style>\n",
       "<table border=\"1\" class=\"dataframe\">\n",
       "  <thead>\n",
       "    <tr style=\"text-align: right;\">\n",
       "      <th></th>\n",
       "      <th>Line 1</th>\n",
       "      <th>Line 2</th>\n",
       "      <th>Line 3</th>\n",
       "    </tr>\n",
       "  </thead>\n",
       "  <tbody>\n",
       "    <tr>\n",
       "      <th>1200</th>\n",
       "      <td>12.5 million (16.9%) children and adolescents ...</td>\n",
       "      <td>facts  statistics physical activity  data from...</td>\n",
       "      <td>1</td>\n",
       "    </tr>\n",
       "    <tr>\n",
       "      <th>1201</th>\n",
       "      <td>12.5 million (16.9%) children and adolescents ...</td>\n",
       "      <td>on this page key findings in 20092010 357 of u...</td>\n",
       "      <td>1</td>\n",
       "    </tr>\n",
       "    <tr>\n",
       "      <th>1202</th>\n",
       "      <td>12.5 million (16.9%) children and adolescents ...</td>\n",
       "      <td>data from 20092010 indicates that over us adul...</td>\n",
       "      <td>1</td>\n",
       "    </tr>\n",
       "    <tr>\n",
       "      <th>1203</th>\n",
       "      <td>12.5 million (16.9%) children and adolescents ...</td>\n",
       "      <td>obesity health  life long physical activity  ...</td>\n",
       "      <td>1</td>\n",
       "    </tr>\n",
       "    <tr>\n",
       "      <th>1204</th>\n",
       "      <td>12.5 million (16.9%) children and adolescents ...</td>\n",
       "      <td>prevalence of overweight among children and ad...</td>\n",
       "      <td>1</td>\n",
       "    </tr>\n",
       "  </tbody>\n",
       "</table>\n",
       "</div>"
      ],
      "text/plain": [
       "                                                 Line 1  \\\n",
       "1200  12.5 million (16.9%) children and adolescents ...   \n",
       "1201  12.5 million (16.9%) children and adolescents ...   \n",
       "1202  12.5 million (16.9%) children and adolescents ...   \n",
       "1203  12.5 million (16.9%) children and adolescents ...   \n",
       "1204  12.5 million (16.9%) children and adolescents ...   \n",
       "\n",
       "                                                 Line 2  Line 3  \n",
       "1200  facts  statistics physical activity  data from...       1  \n",
       "1201  on this page key findings in 20092010 357 of u...       1  \n",
       "1202  data from 20092010 indicates that over us adul...       1  \n",
       "1203   obesity health  life long physical activity  ...       1  \n",
       "1204  prevalence of overweight among children and ad...       1  "
      ]
     },
     "execution_count": 74,
     "metadata": {},
     "output_type": "execute_result"
    }
   ],
   "source": [
    "df.tail()"
   ]
  },
  {
   "cell_type": "code",
   "execution_count": 75,
   "metadata": {},
   "outputs": [],
   "source": [
    "temp = []"
   ]
  },
  {
   "cell_type": "code",
   "execution_count": 76,
   "metadata": {},
   "outputs": [],
   "source": [
    "for i in range(len(df)):\n",
    "    temp.append([df.iloc[i][0], df.iloc[i][1], [0,1]])"
   ]
  },
  {
   "cell_type": "code",
   "execution_count": 77,
   "metadata": {},
   "outputs": [
    {
     "data": {
      "text/plain": [
       "1205"
      ]
     },
     "execution_count": 77,
     "metadata": {},
     "output_type": "execute_result"
    }
   ],
   "source": [
    "len(temp)"
   ]
  },
  {
   "cell_type": "code",
   "execution_count": 78,
   "metadata": {},
   "outputs": [],
   "source": [
    "pickle.dump(temp, open('trainingpositive.p', 'w'))"
   ]
  },
  {
   "cell_type": "code",
   "execution_count": null,
   "metadata": {},
   "outputs": [],
   "source": []
  },
  {
   "cell_type": "code",
   "execution_count": null,
   "metadata": {
    "collapsed": true
   },
   "outputs": [],
   "source": []
  }
 ],
 "metadata": {
  "kernelspec": {
   "display_name": "Python 2",
   "language": "python",
   "name": "python2"
  },
  "language_info": {
   "codemirror_mode": {
    "name": "ipython",
    "version": 2
   },
   "file_extension": ".py",
   "mimetype": "text/x-python",
   "name": "python",
   "nbconvert_exporter": "python",
   "pygments_lexer": "ipython2",
   "version": "2.7.13"
  }
 },
 "nbformat": 4,
 "nbformat_minor": 2
}
